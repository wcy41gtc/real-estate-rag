{
 "cells": [
  {
   "cell_type": "code",
   "execution_count": 1,
   "id": "57f2b271",
   "metadata": {},
   "outputs": [],
   "source": [
    "import os\n",
    "import pandas as pd\n",
    "import openai\n",
    "from dotenv import load_dotenv\n",
    "from tqdm.notebook import tqdm\n",
    "import time"
   ]
  },
  {
   "cell_type": "code",
   "execution_count": 2,
   "id": "313f3097",
   "metadata": {},
   "outputs": [],
   "source": [
    "# Load OpenAI key\n",
    "load_dotenv()\n",
    "openai.api_key = os.getenv(\"OPENAI_API_KEY\")"
   ]
  },
  {
   "cell_type": "code",
   "execution_count": 3,
   "id": "70b39384",
   "metadata": {},
   "outputs": [],
   "source": [
    "# Load the dataset\n",
    "df = pd.read_csv(\"../data/processed/12k_properties.csv\")"
   ]
  },
  {
   "cell_type": "code",
   "execution_count": 4,
   "id": "0e659f41",
   "metadata": {},
   "outputs": [],
   "source": [
    "# Prepare generation prompt for each row\n",
    "def create_prompt(row):\n",
    "    return (\n",
    "        f\"Write a short and engaging real estate listing description (under 100 tokens) \"\n",
    "        f\"for a property located at {row['address']}, {row['city']}, {row['state']} {row['postcode']}. \"\n",
    "        f\"The property is a {row['property_type']} listed at ${row['price']:.0f}.\"\n",
    "    )\n",
    "\n",
    "df[\"prompt\"] = df.apply(create_prompt, axis=1)"
   ]
  },
  {
   "cell_type": "code",
   "execution_count": 5,
   "id": "61f34724",
   "metadata": {},
   "outputs": [],
   "source": [
    "def generate_descriptions(prompts, model=\"gpt-3.5-turbo-instruct\"):\n",
    "    responses = []\n",
    "    for prompt in tqdm(prompts, desc=\"Generating Descriptions\"):\n",
    "        try:\n",
    "            response = openai.Completion.create(\n",
    "                model=model,\n",
    "                prompt=prompt,\n",
    "                max_tokens=100,\n",
    "                temperature=0.7,\n",
    "                top_p=1.0,\n",
    "                n=1,\n",
    "            )\n",
    "            text = response.choices[0].text.strip()\n",
    "        except Exception as e:\n",
    "            print(f\"Error: {e}\")\n",
    "            text = \"\"\n",
    "        responses.append(text)\n",
    "        time.sleep(0.1)  # Avoid rate limits\n",
    "    return responses"
   ]
  },
  {
   "cell_type": "code",
   "execution_count": 6,
   "id": "ff425086",
   "metadata": {},
   "outputs": [
    {
     "data": {
      "application/vnd.jupyter.widget-view+json": {
       "model_id": "9675d8b0e12f4be6bdb4f8b6b124fa9b",
       "version_major": 2,
       "version_minor": 0
      },
      "text/plain": [
       "Generating Descriptions:   0%|          | 0/10 [00:00<?, ?it/s]"
      ]
     },
     "metadata": {},
     "output_type": "display_data"
    }
   ],
   "source": [
    "sample_prompts = df[\"prompt\"].iloc[:10].tolist()\n",
    "sample_descriptions = generate_descriptions(sample_prompts)\n",
    "\n",
    "# Merge descriptions into dataframe\n",
    "df.loc[:9, \"description\"] = sample_descriptions\n",
    "\n",
    "# Save a preview CSV\n",
    "df.iloc[:10].to_csv(\"../data/processed/12k_properties_with_descriptions_preview.csv\", index=False)"
   ]
  },
  {
   "cell_type": "code",
   "execution_count": 7,
   "id": "fd831402",
   "metadata": {},
   "outputs": [],
   "source": [
    "# Function to batch call OpenAI API\n",
    "def generate_descriptions_batch(prompts, model=\"gpt-3.5-turbo-instruct\"):\n",
    "    responses = []\n",
    "    for prompt in tqdm(prompts, desc=\"Generating batch\"):\n",
    "        try:\n",
    "            response = openai.Completion.create(\n",
    "                model=model,\n",
    "                prompt=prompt,\n",
    "                max_tokens=100,\n",
    "                temperature=0.7,\n",
    "                top_p=1.0,\n",
    "                n=1,\n",
    "            )\n",
    "            text = response.choices[0].text.strip()\n",
    "        except Exception as e:\n",
    "            print(f\"Error: {e}\")\n",
    "            text = \"\"\n",
    "        responses.append(text)\n",
    "        time.sleep(0.1)  # prevent rate limiting\n",
    "    return responses"
   ]
  },
  {
   "cell_type": "code",
   "execution_count": 17,
   "id": "76631cf7",
   "metadata": {},
   "outputs": [],
   "source": [
    "output_csv_path = \"../data/processed/12k_properties_with_descriptions.csv\"\n",
    "\n",
    "if \"prompt\" not in df.columns:\n",
    "    df[\"prompt\"] = df.apply(create_prompt, axis=1)\n",
    "\n",
    "# Load existing progress if file exists\n",
    "if os.path.exists(output_csv_path):\n",
    "    saved_df = pd.read_csv(output_csv_path)\n",
    "    df[\"description\"] = saved_df[\"description\"]"
   ]
  },
  {
   "cell_type": "code",
   "execution_count": 25,
   "id": "9d8bd3ae",
   "metadata": {},
   "outputs": [
    {
     "data": {
      "application/vnd.jupyter.widget-view+json": {
       "model_id": "fbad02f6e1fd411f8caa03bf6cb9bba8",
       "version_major": 2,
       "version_minor": 0
      },
      "text/plain": [
       "Overall Progress:   0%|          | 0/92 [00:00<?, ?it/s]"
      ]
     },
     "metadata": {},
     "output_type": "display_data"
    },
    {
     "data": {
      "application/vnd.jupyter.widget-view+json": {
       "model_id": "f96b53f24ee844cb8d933b88a74d82a0",
       "version_major": 2,
       "version_minor": 0
      },
      "text/plain": [
       "Generating batch:   0%|          | 0/100 [00:00<?, ?it/s]"
      ]
     },
     "metadata": {},
     "output_type": "display_data"
    },
    {
     "data": {
      "application/vnd.jupyter.widget-view+json": {
       "model_id": "c8e52e8b5b4d4df7bec5ab2dd28e2a30",
       "version_major": 2,
       "version_minor": 0
      },
      "text/plain": [
       "Generating batch:   0%|          | 0/100 [00:00<?, ?it/s]"
      ]
     },
     "metadata": {},
     "output_type": "display_data"
    },
    {
     "data": {
      "application/vnd.jupyter.widget-view+json": {
       "model_id": "e0d6bb5bd4284d23ba7a12deede5c9cc",
       "version_major": 2,
       "version_minor": 0
      },
      "text/plain": [
       "Generating batch:   0%|          | 0/100 [00:00<?, ?it/s]"
      ]
     },
     "metadata": {},
     "output_type": "display_data"
    },
    {
     "data": {
      "application/vnd.jupyter.widget-view+json": {
       "model_id": "7d0a41d4abea46839c0facb0d1f2804f",
       "version_major": 2,
       "version_minor": 0
      },
      "text/plain": [
       "Generating batch:   0%|          | 0/100 [00:00<?, ?it/s]"
      ]
     },
     "metadata": {},
     "output_type": "display_data"
    },
    {
     "data": {
      "application/vnd.jupyter.widget-view+json": {
       "model_id": "a3573f329b61461abc4627b2da857b15",
       "version_major": 2,
       "version_minor": 0
      },
      "text/plain": [
       "Generating batch:   0%|          | 0/100 [00:00<?, ?it/s]"
      ]
     },
     "metadata": {},
     "output_type": "display_data"
    },
    {
     "data": {
      "application/vnd.jupyter.widget-view+json": {
       "model_id": "d8ded34b008a49a5876eca65ad3988bb",
       "version_major": 2,
       "version_minor": 0
      },
      "text/plain": [
       "Generating batch:   0%|          | 0/100 [00:00<?, ?it/s]"
      ]
     },
     "metadata": {},
     "output_type": "display_data"
    },
    {
     "data": {
      "application/vnd.jupyter.widget-view+json": {
       "model_id": "b7dd5da2898e4e18ad88639210bc5947",
       "version_major": 2,
       "version_minor": 0
      },
      "text/plain": [
       "Generating batch:   0%|          | 0/100 [00:00<?, ?it/s]"
      ]
     },
     "metadata": {},
     "output_type": "display_data"
    },
    {
     "data": {
      "application/vnd.jupyter.widget-view+json": {
       "model_id": "1f5fa27bd7a44889a2d9440a98be185f",
       "version_major": 2,
       "version_minor": 0
      },
      "text/plain": [
       "Generating batch:   0%|          | 0/100 [00:00<?, ?it/s]"
      ]
     },
     "metadata": {},
     "output_type": "display_data"
    },
    {
     "data": {
      "application/vnd.jupyter.widget-view+json": {
       "model_id": "8ca9b3c88fe1472a8aa2f4c0d6746fd6",
       "version_major": 2,
       "version_minor": 0
      },
      "text/plain": [
       "Generating batch:   0%|          | 0/100 [00:00<?, ?it/s]"
      ]
     },
     "metadata": {},
     "output_type": "display_data"
    },
    {
     "data": {
      "application/vnd.jupyter.widget-view+json": {
       "model_id": "e1af7c1e8a5c45849ce5ff6c9594bdd2",
       "version_major": 2,
       "version_minor": 0
      },
      "text/plain": [
       "Generating batch:   0%|          | 0/100 [00:00<?, ?it/s]"
      ]
     },
     "metadata": {},
     "output_type": "display_data"
    },
    {
     "data": {
      "application/vnd.jupyter.widget-view+json": {
       "model_id": "a1150b62405b4516b5156d4ae09c4f30",
       "version_major": 2,
       "version_minor": 0
      },
      "text/plain": [
       "Generating batch:   0%|          | 0/100 [00:00<?, ?it/s]"
      ]
     },
     "metadata": {},
     "output_type": "display_data"
    },
    {
     "data": {
      "application/vnd.jupyter.widget-view+json": {
       "model_id": "1801d145f3394aa5a064bdd3ac44fefe",
       "version_major": 2,
       "version_minor": 0
      },
      "text/plain": [
       "Generating batch:   0%|          | 0/100 [00:00<?, ?it/s]"
      ]
     },
     "metadata": {},
     "output_type": "display_data"
    },
    {
     "data": {
      "application/vnd.jupyter.widget-view+json": {
       "model_id": "440d54a755e1468b84cd8932da4e2ca3",
       "version_major": 2,
       "version_minor": 0
      },
      "text/plain": [
       "Generating batch:   0%|          | 0/100 [00:00<?, ?it/s]"
      ]
     },
     "metadata": {},
     "output_type": "display_data"
    },
    {
     "data": {
      "application/vnd.jupyter.widget-view+json": {
       "model_id": "49800c666dab42408276b68cac13eca8",
       "version_major": 2,
       "version_minor": 0
      },
      "text/plain": [
       "Generating batch:   0%|          | 0/100 [00:00<?, ?it/s]"
      ]
     },
     "metadata": {},
     "output_type": "display_data"
    },
    {
     "data": {
      "application/vnd.jupyter.widget-view+json": {
       "model_id": "60da6eafc675453d8f0868f5a2538a2d",
       "version_major": 2,
       "version_minor": 0
      },
      "text/plain": [
       "Generating batch:   0%|          | 0/100 [00:00<?, ?it/s]"
      ]
     },
     "metadata": {},
     "output_type": "display_data"
    },
    {
     "data": {
      "application/vnd.jupyter.widget-view+json": {
       "model_id": "dc1bab4c6b414679b71358616eddff82",
       "version_major": 2,
       "version_minor": 0
      },
      "text/plain": [
       "Generating batch:   0%|          | 0/100 [00:00<?, ?it/s]"
      ]
     },
     "metadata": {},
     "output_type": "display_data"
    },
    {
     "data": {
      "application/vnd.jupyter.widget-view+json": {
       "model_id": "aa158cf6d5944b789e3bc5f64e29bcd0",
       "version_major": 2,
       "version_minor": 0
      },
      "text/plain": [
       "Generating batch:   0%|          | 0/100 [00:00<?, ?it/s]"
      ]
     },
     "metadata": {},
     "output_type": "display_data"
    },
    {
     "data": {
      "application/vnd.jupyter.widget-view+json": {
       "model_id": "e3cc936b31de4d6eaf227c3d2d4c2cca",
       "version_major": 2,
       "version_minor": 0
      },
      "text/plain": [
       "Generating batch:   0%|          | 0/100 [00:00<?, ?it/s]"
      ]
     },
     "metadata": {},
     "output_type": "display_data"
    },
    {
     "data": {
      "application/vnd.jupyter.widget-view+json": {
       "model_id": "bf3d1444806940c0a8d67d9cb24d58e7",
       "version_major": 2,
       "version_minor": 0
      },
      "text/plain": [
       "Generating batch:   0%|          | 0/100 [00:00<?, ?it/s]"
      ]
     },
     "metadata": {},
     "output_type": "display_data"
    },
    {
     "data": {
      "application/vnd.jupyter.widget-view+json": {
       "model_id": "32201eb0d36844e89a3e9ab09f0d0819",
       "version_major": 2,
       "version_minor": 0
      },
      "text/plain": [
       "Generating batch:   0%|          | 0/100 [00:00<?, ?it/s]"
      ]
     },
     "metadata": {},
     "output_type": "display_data"
    },
    {
     "data": {
      "application/vnd.jupyter.widget-view+json": {
       "model_id": "eb1165a59ac249ffad660d2afe565b86",
       "version_major": 2,
       "version_minor": 0
      },
      "text/plain": [
       "Generating batch:   0%|          | 0/100 [00:00<?, ?it/s]"
      ]
     },
     "metadata": {},
     "output_type": "display_data"
    },
    {
     "data": {
      "application/vnd.jupyter.widget-view+json": {
       "model_id": "254584bf52f247dbbb5ffc397c9a44bc",
       "version_major": 2,
       "version_minor": 0
      },
      "text/plain": [
       "Generating batch:   0%|          | 0/100 [00:00<?, ?it/s]"
      ]
     },
     "metadata": {},
     "output_type": "display_data"
    },
    {
     "data": {
      "application/vnd.jupyter.widget-view+json": {
       "model_id": "ef7475ad47064bbcbaf4034bb92b3321",
       "version_major": 2,
       "version_minor": 0
      },
      "text/plain": [
       "Generating batch:   0%|          | 0/100 [00:00<?, ?it/s]"
      ]
     },
     "metadata": {},
     "output_type": "display_data"
    },
    {
     "data": {
      "application/vnd.jupyter.widget-view+json": {
       "model_id": "5307625a0d884990a64ce7c954c42037",
       "version_major": 2,
       "version_minor": 0
      },
      "text/plain": [
       "Generating batch:   0%|          | 0/100 [00:00<?, ?it/s]"
      ]
     },
     "metadata": {},
     "output_type": "display_data"
    },
    {
     "data": {
      "application/vnd.jupyter.widget-view+json": {
       "model_id": "01f6f77574b04258b95a3a1d8b61ba1a",
       "version_major": 2,
       "version_minor": 0
      },
      "text/plain": [
       "Generating batch:   0%|          | 0/100 [00:00<?, ?it/s]"
      ]
     },
     "metadata": {},
     "output_type": "display_data"
    },
    {
     "data": {
      "application/vnd.jupyter.widget-view+json": {
       "model_id": "3e91a1571bfe4630ad395eac1f9b0d29",
       "version_major": 2,
       "version_minor": 0
      },
      "text/plain": [
       "Generating batch:   0%|          | 0/100 [00:00<?, ?it/s]"
      ]
     },
     "metadata": {},
     "output_type": "display_data"
    },
    {
     "data": {
      "application/vnd.jupyter.widget-view+json": {
       "model_id": "eb872e05df2a4ae29736354a3fb4ebd2",
       "version_major": 2,
       "version_minor": 0
      },
      "text/plain": [
       "Generating batch:   0%|          | 0/100 [00:00<?, ?it/s]"
      ]
     },
     "metadata": {},
     "output_type": "display_data"
    },
    {
     "data": {
      "application/vnd.jupyter.widget-view+json": {
       "model_id": "146ec6795bd0457aa144b6d3f611afb5",
       "version_major": 2,
       "version_minor": 0
      },
      "text/plain": [
       "Generating batch:   0%|          | 0/100 [00:00<?, ?it/s]"
      ]
     },
     "metadata": {},
     "output_type": "display_data"
    },
    {
     "data": {
      "application/vnd.jupyter.widget-view+json": {
       "model_id": "9e14cd85c7f949a185bc7b4faf1270ff",
       "version_major": 2,
       "version_minor": 0
      },
      "text/plain": [
       "Generating batch:   0%|          | 0/100 [00:00<?, ?it/s]"
      ]
     },
     "metadata": {},
     "output_type": "display_data"
    },
    {
     "data": {
      "application/vnd.jupyter.widget-view+json": {
       "model_id": "87bf985d49dc4f2b888e1c7aea9c3946",
       "version_major": 2,
       "version_minor": 0
      },
      "text/plain": [
       "Generating batch:   0%|          | 0/100 [00:00<?, ?it/s]"
      ]
     },
     "metadata": {},
     "output_type": "display_data"
    },
    {
     "data": {
      "application/vnd.jupyter.widget-view+json": {
       "model_id": "b8d44eac7df244a9b45087cbaf1b2dd3",
       "version_major": 2,
       "version_minor": 0
      },
      "text/plain": [
       "Generating batch:   0%|          | 0/100 [00:00<?, ?it/s]"
      ]
     },
     "metadata": {},
     "output_type": "display_data"
    },
    {
     "data": {
      "application/vnd.jupyter.widget-view+json": {
       "model_id": "156e61f2a21b4a42a7efa64d9e244b4c",
       "version_major": 2,
       "version_minor": 0
      },
      "text/plain": [
       "Generating batch:   0%|          | 0/100 [00:00<?, ?it/s]"
      ]
     },
     "metadata": {},
     "output_type": "display_data"
    },
    {
     "data": {
      "application/vnd.jupyter.widget-view+json": {
       "model_id": "4e522472883b499cb9388d89a0c31b30",
       "version_major": 2,
       "version_minor": 0
      },
      "text/plain": [
       "Generating batch:   0%|          | 0/100 [00:00<?, ?it/s]"
      ]
     },
     "metadata": {},
     "output_type": "display_data"
    },
    {
     "data": {
      "application/vnd.jupyter.widget-view+json": {
       "model_id": "4d7dae30e37a4ba586ed1f70ea3d7766",
       "version_major": 2,
       "version_minor": 0
      },
      "text/plain": [
       "Generating batch:   0%|          | 0/100 [00:00<?, ?it/s]"
      ]
     },
     "metadata": {},
     "output_type": "display_data"
    },
    {
     "data": {
      "application/vnd.jupyter.widget-view+json": {
       "model_id": "70c806afd01a43a18de36f5acfd6668d",
       "version_major": 2,
       "version_minor": 0
      },
      "text/plain": [
       "Generating batch:   0%|          | 0/100 [00:00<?, ?it/s]"
      ]
     },
     "metadata": {},
     "output_type": "display_data"
    },
    {
     "data": {
      "application/vnd.jupyter.widget-view+json": {
       "model_id": "269424e5af3b48d2a9ca6d3ca8ee547e",
       "version_major": 2,
       "version_minor": 0
      },
      "text/plain": [
       "Generating batch:   0%|          | 0/100 [00:00<?, ?it/s]"
      ]
     },
     "metadata": {},
     "output_type": "display_data"
    },
    {
     "data": {
      "application/vnd.jupyter.widget-view+json": {
       "model_id": "a5a891d58ff2488985e74266464386e7",
       "version_major": 2,
       "version_minor": 0
      },
      "text/plain": [
       "Generating batch:   0%|          | 0/100 [00:00<?, ?it/s]"
      ]
     },
     "metadata": {},
     "output_type": "display_data"
    },
    {
     "data": {
      "application/vnd.jupyter.widget-view+json": {
       "model_id": "b6363cd87cae44dca1b117527ab0d864",
       "version_major": 2,
       "version_minor": 0
      },
      "text/plain": [
       "Generating batch:   0%|          | 0/100 [00:00<?, ?it/s]"
      ]
     },
     "metadata": {},
     "output_type": "display_data"
    },
    {
     "data": {
      "application/vnd.jupyter.widget-view+json": {
       "model_id": "875a21c813154724a1f2858fee6eec51",
       "version_major": 2,
       "version_minor": 0
      },
      "text/plain": [
       "Generating batch:   0%|          | 0/100 [00:00<?, ?it/s]"
      ]
     },
     "metadata": {},
     "output_type": "display_data"
    },
    {
     "data": {
      "application/vnd.jupyter.widget-view+json": {
       "model_id": "90b62b3a0dc3494cbf9bd592e4036c9e",
       "version_major": 2,
       "version_minor": 0
      },
      "text/plain": [
       "Generating batch:   0%|          | 0/100 [00:00<?, ?it/s]"
      ]
     },
     "metadata": {},
     "output_type": "display_data"
    },
    {
     "data": {
      "application/vnd.jupyter.widget-view+json": {
       "model_id": "9ba7cd5c0451453988fa76f4c401114e",
       "version_major": 2,
       "version_minor": 0
      },
      "text/plain": [
       "Generating batch:   0%|          | 0/100 [00:00<?, ?it/s]"
      ]
     },
     "metadata": {},
     "output_type": "display_data"
    },
    {
     "data": {
      "application/vnd.jupyter.widget-view+json": {
       "model_id": "d704f03f0a44414abcc42d8edf983f9c",
       "version_major": 2,
       "version_minor": 0
      },
      "text/plain": [
       "Generating batch:   0%|          | 0/100 [00:00<?, ?it/s]"
      ]
     },
     "metadata": {},
     "output_type": "display_data"
    },
    {
     "data": {
      "application/vnd.jupyter.widget-view+json": {
       "model_id": "4ba464ba46644bbc9994d5c2d81cf719",
       "version_major": 2,
       "version_minor": 0
      },
      "text/plain": [
       "Generating batch:   0%|          | 0/100 [00:00<?, ?it/s]"
      ]
     },
     "metadata": {},
     "output_type": "display_data"
    },
    {
     "data": {
      "application/vnd.jupyter.widget-view+json": {
       "model_id": "ab441d2935cb49ccafe046a48e6f2f23",
       "version_major": 2,
       "version_minor": 0
      },
      "text/plain": [
       "Generating batch:   0%|          | 0/100 [00:00<?, ?it/s]"
      ]
     },
     "metadata": {},
     "output_type": "display_data"
    },
    {
     "data": {
      "application/vnd.jupyter.widget-view+json": {
       "model_id": "2a6df1eb102c491cbf340f998a03b2f8",
       "version_major": 2,
       "version_minor": 0
      },
      "text/plain": [
       "Generating batch:   0%|          | 0/100 [00:00<?, ?it/s]"
      ]
     },
     "metadata": {},
     "output_type": "display_data"
    },
    {
     "data": {
      "application/vnd.jupyter.widget-view+json": {
       "model_id": "164973d6aba949929ae3b3c320970b81",
       "version_major": 2,
       "version_minor": 0
      },
      "text/plain": [
       "Generating batch:   0%|          | 0/100 [00:00<?, ?it/s]"
      ]
     },
     "metadata": {},
     "output_type": "display_data"
    },
    {
     "data": {
      "application/vnd.jupyter.widget-view+json": {
       "model_id": "bf4de58cb9ce46e192eca053fe7ed04c",
       "version_major": 2,
       "version_minor": 0
      },
      "text/plain": [
       "Generating batch:   0%|          | 0/100 [00:00<?, ?it/s]"
      ]
     },
     "metadata": {},
     "output_type": "display_data"
    },
    {
     "data": {
      "application/vnd.jupyter.widget-view+json": {
       "model_id": "b8c213bd97e0441c8ad29857ce940248",
       "version_major": 2,
       "version_minor": 0
      },
      "text/plain": [
       "Generating batch:   0%|          | 0/100 [00:00<?, ?it/s]"
      ]
     },
     "metadata": {},
     "output_type": "display_data"
    },
    {
     "data": {
      "application/vnd.jupyter.widget-view+json": {
       "model_id": "7767030cf2ce4bfea223a0f1b342bc9f",
       "version_major": 2,
       "version_minor": 0
      },
      "text/plain": [
       "Generating batch:   0%|          | 0/100 [00:00<?, ?it/s]"
      ]
     },
     "metadata": {},
     "output_type": "display_data"
    },
    {
     "data": {
      "application/vnd.jupyter.widget-view+json": {
       "model_id": "8f1f982899a9472c9c8bad39ef355325",
       "version_major": 2,
       "version_minor": 0
      },
      "text/plain": [
       "Generating batch:   0%|          | 0/100 [00:00<?, ?it/s]"
      ]
     },
     "metadata": {},
     "output_type": "display_data"
    },
    {
     "data": {
      "application/vnd.jupyter.widget-view+json": {
       "model_id": "bcd32778b61b4eae8133ee42c399e575",
       "version_major": 2,
       "version_minor": 0
      },
      "text/plain": [
       "Generating batch:   0%|          | 0/100 [00:00<?, ?it/s]"
      ]
     },
     "metadata": {},
     "output_type": "display_data"
    },
    {
     "data": {
      "application/vnd.jupyter.widget-view+json": {
       "model_id": "08e6fb82a5ad425aa9211bd2b67ad14c",
       "version_major": 2,
       "version_minor": 0
      },
      "text/plain": [
       "Generating batch:   0%|          | 0/100 [00:00<?, ?it/s]"
      ]
     },
     "metadata": {},
     "output_type": "display_data"
    },
    {
     "data": {
      "application/vnd.jupyter.widget-view+json": {
       "model_id": "1b041edde5674210bf6a0bec2548133a",
       "version_major": 2,
       "version_minor": 0
      },
      "text/plain": [
       "Generating batch:   0%|          | 0/100 [00:00<?, ?it/s]"
      ]
     },
     "metadata": {},
     "output_type": "display_data"
    },
    {
     "data": {
      "application/vnd.jupyter.widget-view+json": {
       "model_id": "8e10225197c447cdbe8b2721c2faa09b",
       "version_major": 2,
       "version_minor": 0
      },
      "text/plain": [
       "Generating batch:   0%|          | 0/100 [00:00<?, ?it/s]"
      ]
     },
     "metadata": {},
     "output_type": "display_data"
    },
    {
     "data": {
      "application/vnd.jupyter.widget-view+json": {
       "model_id": "2535cf387f2e4474b6a4bb8c4132c280",
       "version_major": 2,
       "version_minor": 0
      },
      "text/plain": [
       "Generating batch:   0%|          | 0/100 [00:00<?, ?it/s]"
      ]
     },
     "metadata": {},
     "output_type": "display_data"
    },
    {
     "data": {
      "application/vnd.jupyter.widget-view+json": {
       "model_id": "f86608629ad7499eb9065703cd7337c1",
       "version_major": 2,
       "version_minor": 0
      },
      "text/plain": [
       "Generating batch:   0%|          | 0/100 [00:00<?, ?it/s]"
      ]
     },
     "metadata": {},
     "output_type": "display_data"
    },
    {
     "data": {
      "application/vnd.jupyter.widget-view+json": {
       "model_id": "e44e7c473fd34eb2b51581d485eb9089",
       "version_major": 2,
       "version_minor": 0
      },
      "text/plain": [
       "Generating batch:   0%|          | 0/100 [00:00<?, ?it/s]"
      ]
     },
     "metadata": {},
     "output_type": "display_data"
    },
    {
     "name": "stdout",
     "output_type": "stream",
     "text": [
      "Error: The server is overloaded or not ready yet.\n"
     ]
    },
    {
     "data": {
      "application/vnd.jupyter.widget-view+json": {
       "model_id": "22279a07b72b422883dae70fe0a6fa66",
       "version_major": 2,
       "version_minor": 0
      },
      "text/plain": [
       "Generating batch:   0%|          | 0/100 [00:00<?, ?it/s]"
      ]
     },
     "metadata": {},
     "output_type": "display_data"
    },
    {
     "data": {
      "application/vnd.jupyter.widget-view+json": {
       "model_id": "4768badb16674d30a1ffd708e9a6ff8a",
       "version_major": 2,
       "version_minor": 0
      },
      "text/plain": [
       "Generating batch:   0%|          | 0/100 [00:00<?, ?it/s]"
      ]
     },
     "metadata": {},
     "output_type": "display_data"
    },
    {
     "data": {
      "application/vnd.jupyter.widget-view+json": {
       "model_id": "33f86bc6a6b243e3af6fdaba5ecb39a7",
       "version_major": 2,
       "version_minor": 0
      },
      "text/plain": [
       "Generating batch:   0%|          | 0/100 [00:00<?, ?it/s]"
      ]
     },
     "metadata": {},
     "output_type": "display_data"
    },
    {
     "data": {
      "application/vnd.jupyter.widget-view+json": {
       "model_id": "f1c788b4e64d4a2690ffd731de6ac56b",
       "version_major": 2,
       "version_minor": 0
      },
      "text/plain": [
       "Generating batch:   0%|          | 0/100 [00:00<?, ?it/s]"
      ]
     },
     "metadata": {},
     "output_type": "display_data"
    },
    {
     "data": {
      "application/vnd.jupyter.widget-view+json": {
       "model_id": "f3827b3bc69146dca14de77a11ba5b11",
       "version_major": 2,
       "version_minor": 0
      },
      "text/plain": [
       "Generating batch:   0%|          | 0/100 [00:00<?, ?it/s]"
      ]
     },
     "metadata": {},
     "output_type": "display_data"
    },
    {
     "data": {
      "application/vnd.jupyter.widget-view+json": {
       "model_id": "8abdf30402e94321b03c63f94ac55673",
       "version_major": 2,
       "version_minor": 0
      },
      "text/plain": [
       "Generating batch:   0%|          | 0/100 [00:00<?, ?it/s]"
      ]
     },
     "metadata": {},
     "output_type": "display_data"
    },
    {
     "data": {
      "application/vnd.jupyter.widget-view+json": {
       "model_id": "abfb1fa83c7e4b03a515f7ccc3fd5573",
       "version_major": 2,
       "version_minor": 0
      },
      "text/plain": [
       "Generating batch:   0%|          | 0/100 [00:00<?, ?it/s]"
      ]
     },
     "metadata": {},
     "output_type": "display_data"
    },
    {
     "data": {
      "application/vnd.jupyter.widget-view+json": {
       "model_id": "a0caaae625c6470bae71370874a31290",
       "version_major": 2,
       "version_minor": 0
      },
      "text/plain": [
       "Generating batch:   0%|          | 0/100 [00:00<?, ?it/s]"
      ]
     },
     "metadata": {},
     "output_type": "display_data"
    },
    {
     "data": {
      "application/vnd.jupyter.widget-view+json": {
       "model_id": "9fa6221eadb4472b8da8f69efbf2b4ac",
       "version_major": 2,
       "version_minor": 0
      },
      "text/plain": [
       "Generating batch:   0%|          | 0/100 [00:00<?, ?it/s]"
      ]
     },
     "metadata": {},
     "output_type": "display_data"
    },
    {
     "data": {
      "application/vnd.jupyter.widget-view+json": {
       "model_id": "54ec1c4c13b34a58a4339d978acb84ba",
       "version_major": 2,
       "version_minor": 0
      },
      "text/plain": [
       "Generating batch:   0%|          | 0/100 [00:00<?, ?it/s]"
      ]
     },
     "metadata": {},
     "output_type": "display_data"
    },
    {
     "data": {
      "application/vnd.jupyter.widget-view+json": {
       "model_id": "af6a4d0f43ec4e2cb3f2827e90e60ae8",
       "version_major": 2,
       "version_minor": 0
      },
      "text/plain": [
       "Generating batch:   0%|          | 0/100 [00:00<?, ?it/s]"
      ]
     },
     "metadata": {},
     "output_type": "display_data"
    },
    {
     "data": {
      "application/vnd.jupyter.widget-view+json": {
       "model_id": "4ace23869d824e9ab4a5e70dd1cf8b0b",
       "version_major": 2,
       "version_minor": 0
      },
      "text/plain": [
       "Generating batch:   0%|          | 0/100 [00:00<?, ?it/s]"
      ]
     },
     "metadata": {},
     "output_type": "display_data"
    },
    {
     "data": {
      "application/vnd.jupyter.widget-view+json": {
       "model_id": "fa1e121a3e314e9a89bbb31e4d724073",
       "version_major": 2,
       "version_minor": 0
      },
      "text/plain": [
       "Generating batch:   0%|          | 0/100 [00:00<?, ?it/s]"
      ]
     },
     "metadata": {},
     "output_type": "display_data"
    },
    {
     "data": {
      "application/vnd.jupyter.widget-view+json": {
       "model_id": "7dfb052ffa6f4e3a9751c9ca134dace1",
       "version_major": 2,
       "version_minor": 0
      },
      "text/plain": [
       "Generating batch:   0%|          | 0/100 [00:00<?, ?it/s]"
      ]
     },
     "metadata": {},
     "output_type": "display_data"
    },
    {
     "data": {
      "application/vnd.jupyter.widget-view+json": {
       "model_id": "dc8c55aa1c594e9ba4bfbde95aee02ba",
       "version_major": 2,
       "version_minor": 0
      },
      "text/plain": [
       "Generating batch:   0%|          | 0/100 [00:00<?, ?it/s]"
      ]
     },
     "metadata": {},
     "output_type": "display_data"
    },
    {
     "data": {
      "application/vnd.jupyter.widget-view+json": {
       "model_id": "7d648daac3d7471e889f5e3170ebeea6",
       "version_major": 2,
       "version_minor": 0
      },
      "text/plain": [
       "Generating batch:   0%|          | 0/100 [00:00<?, ?it/s]"
      ]
     },
     "metadata": {},
     "output_type": "display_data"
    },
    {
     "data": {
      "application/vnd.jupyter.widget-view+json": {
       "model_id": "7edee4ebab3b440c90c7f3e2ea56f9b6",
       "version_major": 2,
       "version_minor": 0
      },
      "text/plain": [
       "Generating batch:   0%|          | 0/100 [00:00<?, ?it/s]"
      ]
     },
     "metadata": {},
     "output_type": "display_data"
    },
    {
     "data": {
      "application/vnd.jupyter.widget-view+json": {
       "model_id": "9571134f77834333834544ea36682c58",
       "version_major": 2,
       "version_minor": 0
      },
      "text/plain": [
       "Generating batch:   0%|          | 0/100 [00:00<?, ?it/s]"
      ]
     },
     "metadata": {},
     "output_type": "display_data"
    },
    {
     "data": {
      "application/vnd.jupyter.widget-view+json": {
       "model_id": "0801a8fcc80248ee8124a6bafe98d8d6",
       "version_major": 2,
       "version_minor": 0
      },
      "text/plain": [
       "Generating batch:   0%|          | 0/100 [00:00<?, ?it/s]"
      ]
     },
     "metadata": {},
     "output_type": "display_data"
    },
    {
     "data": {
      "application/vnd.jupyter.widget-view+json": {
       "model_id": "e56eb10927064f469e8653286fb32160",
       "version_major": 2,
       "version_minor": 0
      },
      "text/plain": [
       "Generating batch:   0%|          | 0/100 [00:00<?, ?it/s]"
      ]
     },
     "metadata": {},
     "output_type": "display_data"
    },
    {
     "data": {
      "application/vnd.jupyter.widget-view+json": {
       "model_id": "4f78c8c211d44dd0b1dd7a7c04b86cf9",
       "version_major": 2,
       "version_minor": 0
      },
      "text/plain": [
       "Generating batch:   0%|          | 0/100 [00:00<?, ?it/s]"
      ]
     },
     "metadata": {},
     "output_type": "display_data"
    },
    {
     "data": {
      "application/vnd.jupyter.widget-view+json": {
       "model_id": "f150081ecaf249b88c8b6dcb291dc68d",
       "version_major": 2,
       "version_minor": 0
      },
      "text/plain": [
       "Generating batch:   0%|          | 0/100 [00:00<?, ?it/s]"
      ]
     },
     "metadata": {},
     "output_type": "display_data"
    },
    {
     "data": {
      "application/vnd.jupyter.widget-view+json": {
       "model_id": "dc68a8996c3440a3b8cf9ca28d2b849e",
       "version_major": 2,
       "version_minor": 0
      },
      "text/plain": [
       "Generating batch:   0%|          | 0/100 [00:00<?, ?it/s]"
      ]
     },
     "metadata": {},
     "output_type": "display_data"
    },
    {
     "data": {
      "application/vnd.jupyter.widget-view+json": {
       "model_id": "c510a42e1188495e9fcbd30518774e68",
       "version_major": 2,
       "version_minor": 0
      },
      "text/plain": [
       "Generating batch:   0%|          | 0/100 [00:00<?, ?it/s]"
      ]
     },
     "metadata": {},
     "output_type": "display_data"
    },
    {
     "data": {
      "application/vnd.jupyter.widget-view+json": {
       "model_id": "3fb0614b20d041ccac284511bab11a81",
       "version_major": 2,
       "version_minor": 0
      },
      "text/plain": [
       "Generating batch:   0%|          | 0/100 [00:00<?, ?it/s]"
      ]
     },
     "metadata": {},
     "output_type": "display_data"
    },
    {
     "data": {
      "application/vnd.jupyter.widget-view+json": {
       "model_id": "b507b6fcffde4cb6992ccecd6e4d7428",
       "version_major": 2,
       "version_minor": 0
      },
      "text/plain": [
       "Generating batch:   0%|          | 0/100 [00:00<?, ?it/s]"
      ]
     },
     "metadata": {},
     "output_type": "display_data"
    },
    {
     "data": {
      "application/vnd.jupyter.widget-view+json": {
       "model_id": "70de0c05bb8f47faa754da663644e32b",
       "version_major": 2,
       "version_minor": 0
      },
      "text/plain": [
       "Generating batch:   0%|          | 0/100 [00:00<?, ?it/s]"
      ]
     },
     "metadata": {},
     "output_type": "display_data"
    },
    {
     "data": {
      "application/vnd.jupyter.widget-view+json": {
       "model_id": "c131912d7dc84105b318d7322caf126d",
       "version_major": 2,
       "version_minor": 0
      },
      "text/plain": [
       "Generating batch:   0%|          | 0/100 [00:00<?, ?it/s]"
      ]
     },
     "metadata": {},
     "output_type": "display_data"
    },
    {
     "data": {
      "application/vnd.jupyter.widget-view+json": {
       "model_id": "4314d3b7e25d49f48a76da26e6323e26",
       "version_major": 2,
       "version_minor": 0
      },
      "text/plain": [
       "Generating batch:   0%|          | 0/100 [00:00<?, ?it/s]"
      ]
     },
     "metadata": {},
     "output_type": "display_data"
    },
    {
     "data": {
      "application/vnd.jupyter.widget-view+json": {
       "model_id": "a1d3aeeb28fc491385f9cfb810475fd8",
       "version_major": 2,
       "version_minor": 0
      },
      "text/plain": [
       "Generating batch:   0%|          | 0/100 [00:00<?, ?it/s]"
      ]
     },
     "metadata": {},
     "output_type": "display_data"
    },
    {
     "data": {
      "application/vnd.jupyter.widget-view+json": {
       "model_id": "29948f58d2034087918d21e0f0189419",
       "version_major": 2,
       "version_minor": 0
      },
      "text/plain": [
       "Generating batch:   0%|          | 0/100 [00:00<?, ?it/s]"
      ]
     },
     "metadata": {},
     "output_type": "display_data"
    },
    {
     "data": {
      "application/vnd.jupyter.widget-view+json": {
       "model_id": "155771479c364320b7ba22212f88bbd0",
       "version_major": 2,
       "version_minor": 0
      },
      "text/plain": [
       "Generating batch:   0%|          | 0/100 [00:00<?, ?it/s]"
      ]
     },
     "metadata": {},
     "output_type": "display_data"
    },
    {
     "data": {
      "application/vnd.jupyter.widget-view+json": {
       "model_id": "9b391eea7a3b4901a0a8ca885ee8b299",
       "version_major": 2,
       "version_minor": 0
      },
      "text/plain": [
       "Generating batch:   0%|          | 0/100 [00:00<?, ?it/s]"
      ]
     },
     "metadata": {},
     "output_type": "display_data"
    },
    {
     "data": {
      "application/vnd.jupyter.widget-view+json": {
       "model_id": "5941ef3c91e642bbb427642ac5540b11",
       "version_major": 2,
       "version_minor": 0
      },
      "text/plain": [
       "Generating batch:   0%|          | 0/100 [00:00<?, ?it/s]"
      ]
     },
     "metadata": {},
     "output_type": "display_data"
    },
    {
     "data": {
      "application/vnd.jupyter.widget-view+json": {
       "model_id": "ad05c94b8bfe4417a5a355434c02f5bd",
       "version_major": 2,
       "version_minor": 0
      },
      "text/plain": [
       "Generating batch:   0%|          | 0/90 [00:00<?, ?it/s]"
      ]
     },
     "metadata": {},
     "output_type": "display_data"
    }
   ],
   "source": [
    "# Process in batches and resume\n",
    "batch_size = 100\n",
    "unprocessed_idx = df[df[\"description\"] == \"nan\"].index\n",
    "\n",
    "for start in tqdm(range(0, len(unprocessed_idx), batch_size), desc=\"Overall Progress\"):\n",
    "    batch_indices = unprocessed_idx[start:start + batch_size]\n",
    "    if len(batch_indices) == 0:\n",
    "        continue\n",
    "\n",
    "    prompts = df.loc[batch_indices, \"prompt\"].tolist()\n",
    "    responses = generate_descriptions_batch(prompts)\n",
    "\n",
    "    df.loc[batch_indices, \"description\"] = responses\n",
    "\n",
    "    # Save progress after each batch\n",
    "    df.to_csv(output_csv_path, index=False)"
   ]
  },
  {
   "cell_type": "code",
   "execution_count": null,
   "id": "15f7b448",
   "metadata": {},
   "outputs": [],
   "source": []
  }
 ],
 "metadata": {
  "kernelspec": {
   "display_name": ".venv",
   "language": "python",
   "name": "python3"
  },
  "language_info": {
   "codemirror_mode": {
    "name": "ipython",
    "version": 3
   },
   "file_extension": ".py",
   "mimetype": "text/x-python",
   "name": "python",
   "nbconvert_exporter": "python",
   "pygments_lexer": "ipython3",
   "version": "3.13.3"
  }
 },
 "nbformat": 4,
 "nbformat_minor": 5
}

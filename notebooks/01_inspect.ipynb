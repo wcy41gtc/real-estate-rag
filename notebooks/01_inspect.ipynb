{
 "cells": [
  {
   "cell_type": "code",
   "execution_count": 1,
   "id": "325d7521",
   "metadata": {},
   "outputs": [],
   "source": [
    "import pandas as pd"
   ]
  },
  {
   "cell_type": "code",
   "execution_count": 2,
   "id": "49c8259c",
   "metadata": {},
   "outputs": [
    {
     "name": "stdout",
     "output_type": "stream",
     "text": [
      "Index(['property_url', 'property_id', 'address', 'street_name', 'apartment',\n",
      "       'city', 'state', 'latitude', 'longitude', 'postcode', 'price',\n",
      "       'bedroom_number', 'bathroom_number', 'price_per_unit', 'living_space',\n",
      "       'land_space', 'land_space_unit', 'broker_id', 'property_type',\n",
      "       'property_status', 'year_build', 'total_num_units', 'listing_age',\n",
      "       'RunDate', 'agency_name', 'agent_name', 'agent_phone',\n",
      "       'is_owned_by_zillow'],\n",
      "      dtype='object')\n"
     ]
    },
    {
     "name": "stderr",
     "output_type": "stream",
     "text": [
      "/var/folders/48/hxgx_tg91m9b2900v54gs88w0000gn/T/ipykernel_72168/3615340075.py:1: DtypeWarning: Columns (9) have mixed types. Specify dtype option on import or set low_memory=False.\n",
      "  df = pd.read_csv(\"../data/raw/600K US Housing Properties.csv\")\n"
     ]
    }
   ],
   "source": [
    "df = pd.read_csv(\"../data/raw/600K US Housing Properties.csv\")\n",
    "# print column names\n",
    "print(df.columns)\n"
   ]
  },
  {
   "cell_type": "code",
   "execution_count": 3,
   "id": "62563e74",
   "metadata": {},
   "outputs": [],
   "source": [
    "# drop unnecessary columns for this project\n",
    "df = df.drop(columns=[\"property_status\",\n",
    "                      \"RunDate\",\n",
    "                      \"agency_name\",\n",
    "                      \"broker_id\",\n",
    "                      \"listing_age\",\n",
    "                      \"agent_name\",\n",
    "                      \"agent_phone\",\n",
    "                      \"is_owned_by_zillow\"])"
   ]
  },
  {
   "cell_type": "code",
   "execution_count": 4,
   "id": "80a63b53",
   "metadata": {},
   "outputs": [
    {
     "name": "stdout",
     "output_type": "stream",
     "text": [
      "Columns with missing values and their percentages:\n",
      "street_name: 0.0245%\n",
      "apartment: 97.5308%\n",
      "city: 0.0002%\n",
      "state: 0.0002%\n",
      "latitude: 11.8130%\n",
      "longitude: 11.8130%\n",
      "postcode: 0.0050%\n",
      "bedroom_number: 26.0258%\n",
      "bathroom_number: 21.3778%\n",
      "price_per_unit: 27.4392%\n",
      "living_space: 25.3588%\n",
      "land_space: 14.1468%\n",
      "land_space_unit: 14.1468%\n",
      "year_build: 100.0000%\n",
      "total_num_units: 100.0000%\n"
     ]
    }
   ],
   "source": [
    "\n",
    "# find which columns have missing values or nulls, display the percentage of missing values\n",
    "missing_columns = df.columns[df.isnull().any()].tolist()\n",
    "missing_percentage = df[missing_columns].isnull().mean() * 100\n",
    "print(\"Columns with missing values and their percentages:\")\n",
    "for col, perc in zip(missing_columns, missing_percentage):\n",
    "    print(f\"{col}: {perc:.4f}%\")\n"
   ]
  },
  {
   "cell_type": "code",
   "execution_count": 5,
   "id": "74fa337d",
   "metadata": {},
   "outputs": [
    {
     "name": "stdout",
     "output_type": "stream",
     "text": [
      "No missing values left in the DataFrame.\n"
     ]
    }
   ],
   "source": [
    "# drop columns with more than 1% missing values\n",
    "threshold = 1.0\n",
    "columns_to_drop = missing_percentage[missing_percentage > threshold].index.tolist()\n",
    "df.drop(columns=columns_to_drop, inplace=True)\n",
    "\n",
    "# drop the rows with missing values in the remaining columns\n",
    "df.dropna(inplace=True)\n",
    "\n",
    "# double check if there are any missing values left\n",
    "missing_columns_after = df.columns[df.isnull().any()].tolist()\n",
    "if not missing_columns_after:\n",
    "    print(\"No missing values left in the DataFrame.\")\n",
    "else:\n",
    "    print(\"Missing values still present in the following columns:\")\n",
    "    for col in missing_columns_after:\n",
    "        print(col)"
   ]
  },
  {
   "cell_type": "code",
   "execution_count": 6,
   "id": "47fea699",
   "metadata": {},
   "outputs": [
    {
     "name": "stdout",
     "output_type": "stream",
     "text": [
      "\n",
      "Data types of each column:\n",
      "property_url      object\n",
      "property_id        int64\n",
      "address           object\n",
      "street_name       object\n",
      "city              object\n",
      "state             object\n",
      "postcode          object\n",
      "price            float64\n",
      "property_type     object\n",
      "dtype: object\n"
     ]
    }
   ],
   "source": [
    "# check data type consistency of each column\n",
    "print(\"\\nData types of each column:\")\n",
    "print(df.dtypes)\n"
   ]
  },
  {
   "cell_type": "code",
   "execution_count": 7,
   "id": "7501c9de",
   "metadata": {},
   "outputs": [
    {
     "name": "stdout",
     "output_type": "stream",
     "text": [
      "\n",
      "property_id is unique.\n"
     ]
    }
   ],
   "source": [
    "# check if property_id is unique\n",
    "if df['property_id'].is_unique:\n",
    "    print(\"\\nproperty_id is unique.\")\n",
    "else:\n",
    "    # drop duplicates based on property_id\n",
    "    df.drop_duplicates(subset='property_id', inplace=True)\n",
    "    print(\"\\nDuplicates based on property_id were found and removed.\")"
   ]
  },
  {
   "cell_type": "code",
   "execution_count": 8,
   "id": "50be227f",
   "metadata": {},
   "outputs": [],
   "source": [
    "# sample 120k rows from the DataFrame\n",
    "df_sampled_120k = df.sample(n=120000, random_state=42)\n",
    "# save the sampled DataFrame to a csv file, create the directory if it doesn't exist\n",
    "import os\n",
    "os.makedirs(\"../data/processed\", exist_ok=True)\n",
    "df_sampled_120k.to_csv(\"../data/processed/120k_properties.csv\", index=False)"
   ]
  },
  {
   "cell_type": "code",
   "execution_count": 9,
   "id": "fdeb4241",
   "metadata": {},
   "outputs": [],
   "source": [
    "# sample 12k rows from the DataFrame\n",
    "df_sampled_12k = df.sample(n=12000, random_state=42)\n",
    "# save the sampled DataFrame to a csv file, create the directory if it doesn't exist\n",
    "import os\n",
    "os.makedirs(\"../data/processed\", exist_ok=True)\n",
    "df_sampled_12k.to_csv(\"../data/processed/12k_properties.csv\", index=False)"
   ]
  },
  {
   "cell_type": "code",
   "execution_count": null,
   "id": "4fe9d638",
   "metadata": {},
   "outputs": [],
   "source": []
  }
 ],
 "metadata": {
  "kernelspec": {
   "display_name": ".venv",
   "language": "python",
   "name": "python3"
  },
  "language_info": {
   "codemirror_mode": {
    "name": "ipython",
    "version": 3
   },
   "file_extension": ".py",
   "mimetype": "text/x-python",
   "name": "python",
   "nbconvert_exporter": "python",
   "pygments_lexer": "ipython3",
   "version": "3.13.3"
  }
 },
 "nbformat": 4,
 "nbformat_minor": 5
}
